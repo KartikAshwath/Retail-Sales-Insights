{
  "cells": [
    {
      "cell_type": "code",
      "source": [
        "import pandas as pd\n",
        "import numpy as np\n",
        "\n",
        "# --- 1. Data Loading and Preprocessing ---\n",
        "# This section loads your data and prepares it for analysis in Power BI.\n",
        "print(\"Step 1: Loading and Preprocessing Data...\")\n",
        "try:\n",
        "    # Changed the file name as requested\n",
        "    df = pd.read_csv('Retail_Sales_Insights.csv')\n",
        "    print(\"Data loaded successfully.\")\n",
        "except FileNotFoundError:\n",
        "    print(\"Error: 'Retail_Sales_Insights.csv' not found. Please make sure the file is in the same directory.\")\n",
        "    # Exit the script if the file is not found to prevent errors.\n",
        "    exit()\n",
        "\n",
        "# Convert the 'Purchase Date' column to a datetime object.\n",
        "# This is a critical step for Power BI to recognize the dates and perform time-based analysis.\n",
        "df['Purchase Date'] = pd.to_datetime(df['Purchase Date'], format='mixed', dayfirst=True)\n",
        "\n",
        "# Fill any missing values in the 'Discount Name' column with 'No Discount'.\n",
        "# This creates a cleaner dataset for your visualizations.\n",
        "df['Discount Name'].fillna('No Discount', inplace=True)\n",
        "\n",
        "# Calculate key metrics that can be used directly in Power BI visuals.\n",
        "# We create new columns for 'Profit' and 'Profit Margin (%)'.\n",
        "df['Profit'] = df['Net Amount'] - df['Gross Amount']\n",
        "df['Profit Margin (%)'] = (df['Profit'] / (df['Net Amount'] + 1e-6)) * 100\n",
        "\n",
        "print(\"Data preprocessing complete. The dataset is ready for Power BI.\")\n",
        "\n",
        "# --- 2. Saving the Processed Data (Optional) ---\n",
        "# Uncomment the line below if you want to save the cleaned data to a new CSV file.\n",
        "# df.to_csv('Processed_Retail_Sales_Insights.csv', index=False)\n",
        "\n",
        "# This section calculates and prints key metrics for a quick check.\n",
        "print(\"\\nStep 2: Key Metrics Summary...\")\n",
        "total_revenue = df['Net Amount'].sum()\n",
        "total_customers = df['CID'].nunique()\n",
        "average_discount_rate = (df['Discount Amount (INR)'].sum() / df['Gross Amount'].sum()) * 100\n",
        "average_profit_margin = df['Profit Margin (%)'].mean()\n",
        "\n",
        "print(f\"Total Net Revenue: ${total_revenue:,.2f}\")\n",
        "print(f\"Total Customers: {total_customers:,.0f}\")\n",
        "print(f\"Average Discount Rate: {average_discount_rate:.2f}%\")\n",
        "print(f\"Average Profit Margin: {average_profit_margin:.2f}%\")"
      ],
      "outputs": [
        {
          "output_type": "stream",
          "name": "stdout",
          "text": [
            "Step 1: Loading and Preprocessing Data...\n",
            "Data loaded successfully.\n",
            "Data preprocessing complete. The dataset is ready for Power BI.\n",
            "\n",
            "Step 2: Key Metrics Summary...\n",
            "Total Net Revenue: $158,177,239.56\n",
            "Total Customers: 29,071\n",
            "Average Discount Rate: 4.55%\n",
            "Average Profit Margin: -10.37%\n"
          ]
        },
        {
          "output_type": "stream",
          "name": "stderr",
          "text": [
            "/tmp/ipython-input-4173779528.py:22: FutureWarning: A value is trying to be set on a copy of a DataFrame or Series through chained assignment using an inplace method.\n",
            "The behavior will change in pandas 3.0. This inplace method will never work because the intermediate object on which we are setting values always behaves as a copy.\n",
            "\n",
            "For example, when doing 'df[col].method(value, inplace=True)', try using 'df.method({col: value}, inplace=True)' or df[col] = df[col].method(value) instead, to perform the operation inplace on the original object.\n",
            "\n",
            "\n",
            "  df['Discount Name'].fillna('No Discount', inplace=True)\n"
          ]
        }
      ],
      "execution_count": 4,
      "metadata": {
        "colab": {
          "base_uri": "https://localhost:8080/"
        },
        "id": "YgM3NVda7gIK",
        "outputId": "a22dae07-bb56-4fdf-bfc2-35c52cc9c17d"
      }
    },
    {
      "cell_type": "code",
      "source": [
        "# Save the processed data to a new CSV file for use in Power BI.\n",
        "df.to_csv('Processed_Retail_Sales_Insights.csv', index=False)\n",
        "print(\"\\nProcessed data saved to 'Processed_Retail_Sales_Insights.csv'\")"
      ],
      "metadata": {
        "colab": {
          "base_uri": "https://localhost:8080/"
        },
        "id": "QBz9hNby7wx5",
        "outputId": "75c27a71-6bfa-4eec-914c-6548ad1c9f2a"
      },
      "execution_count": 5,
      "outputs": [
        {
          "output_type": "stream",
          "name": "stdout",
          "text": [
            "\n",
            "Processed data saved to 'Processed_Retail_Sales_Insights.csv'\n"
          ]
        }
      ]
    },
    {
      "cell_type": "code",
      "source": [],
      "metadata": {
        "id": "6Eks_Rz28V3e"
      },
      "execution_count": null,
      "outputs": []
    }
  ],
  "metadata": {
    "colab": {
      "provenance": []
    },
    "kernelspec": {
      "display_name": "Python 3",
      "name": "python3"
    }
  },
  "nbformat": 4,
  "nbformat_minor": 0
}